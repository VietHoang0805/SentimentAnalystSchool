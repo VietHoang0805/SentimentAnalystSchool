{
 "cells": [
  {
   "cell_type": "code",
   "execution_count": 3,
   "id": "94d2553e",
   "metadata": {},
   "outputs": [],
   "source": [
    "import numpy as np\n",
    "import pandas as pd\n",
    "import os"
   ]
  },
  {
   "cell_type": "code",
   "execution_count": 4,
   "id": "4aa11a06",
   "metadata": {},
   "outputs": [],
   "source": [
    "data=pd.read_csv(\"./Dataset/Restaurant/Restaurants_Train_v2.csv\")"
   ]
  },
  {
   "cell_type": "code",
   "execution_count": 5,
   "id": "c7dd41e9",
   "metadata": {},
   "outputs": [
    {
     "data": {
      "text/plain": [
       "(3693, 6)"
      ]
     },
     "execution_count": 5,
     "metadata": {},
     "output_type": "execute_result"
    }
   ],
   "source": [
    "data.shape"
   ]
  },
  {
   "cell_type": "code",
   "execution_count": 6,
   "id": "7f2f7d28",
   "metadata": {},
   "outputs": [
    {
     "data": {
      "text/html": [
       "<div>\n",
       "<style scoped>\n",
       "    .dataframe tbody tr th:only-of-type {\n",
       "        vertical-align: middle;\n",
       "    }\n",
       "\n",
       "    .dataframe tbody tr th {\n",
       "        vertical-align: top;\n",
       "    }\n",
       "\n",
       "    .dataframe thead th {\n",
       "        text-align: right;\n",
       "    }\n",
       "</style>\n",
       "<table border=\"1\" class=\"dataframe\">\n",
       "  <thead>\n",
       "    <tr style=\"text-align: right;\">\n",
       "      <th></th>\n",
       "      <th>id</th>\n",
       "      <th>Sentence</th>\n",
       "      <th>Aspect Term</th>\n",
       "      <th>polarity</th>\n",
       "      <th>from</th>\n",
       "      <th>to</th>\n",
       "    </tr>\n",
       "  </thead>\n",
       "  <tbody>\n",
       "    <tr>\n",
       "      <th>0</th>\n",
       "      <td>3121</td>\n",
       "      <td>But the staff was so horrible to us.</td>\n",
       "      <td>staff</td>\n",
       "      <td>negative</td>\n",
       "      <td>8</td>\n",
       "      <td>13</td>\n",
       "    </tr>\n",
       "    <tr>\n",
       "      <th>1</th>\n",
       "      <td>2777</td>\n",
       "      <td>To be completely fair, the only redeeming fact...</td>\n",
       "      <td>food</td>\n",
       "      <td>positive</td>\n",
       "      <td>57</td>\n",
       "      <td>61</td>\n",
       "    </tr>\n",
       "    <tr>\n",
       "      <th>2</th>\n",
       "      <td>1634</td>\n",
       "      <td>The food is uniformly exceptional, with a very...</td>\n",
       "      <td>food</td>\n",
       "      <td>positive</td>\n",
       "      <td>4</td>\n",
       "      <td>8</td>\n",
       "    </tr>\n",
       "    <tr>\n",
       "      <th>3</th>\n",
       "      <td>1634</td>\n",
       "      <td>The food is uniformly exceptional, with a very...</td>\n",
       "      <td>kitchen</td>\n",
       "      <td>positive</td>\n",
       "      <td>55</td>\n",
       "      <td>62</td>\n",
       "    </tr>\n",
       "    <tr>\n",
       "      <th>4</th>\n",
       "      <td>1634</td>\n",
       "      <td>The food is uniformly exceptional, with a very...</td>\n",
       "      <td>menu</td>\n",
       "      <td>neutral</td>\n",
       "      <td>141</td>\n",
       "      <td>145</td>\n",
       "    </tr>\n",
       "  </tbody>\n",
       "</table>\n",
       "</div>"
      ],
      "text/plain": [
       "     id                                           Sentence Aspect Term  \\\n",
       "0  3121               But the staff was so horrible to us.       staff   \n",
       "1  2777  To be completely fair, the only redeeming fact...        food   \n",
       "2  1634  The food is uniformly exceptional, with a very...        food   \n",
       "3  1634  The food is uniformly exceptional, with a very...     kitchen   \n",
       "4  1634  The food is uniformly exceptional, with a very...        menu   \n",
       "\n",
       "   polarity  from   to  \n",
       "0  negative     8   13  \n",
       "1  positive    57   61  \n",
       "2  positive     4    8  \n",
       "3  positive    55   62  \n",
       "4   neutral   141  145  "
      ]
     },
     "execution_count": 6,
     "metadata": {},
     "output_type": "execute_result"
    }
   ],
   "source": [
    "data.head()"
   ]
  },
  {
   "cell_type": "markdown",
   "id": "dc628cba",
   "metadata": {},
   "source": [
    "# PreProcessing"
   ]
  },
  {
   "cell_type": "code",
   "execution_count": 8,
   "id": "f6132184",
   "metadata": {},
   "outputs": [
    {
     "data": {
      "text/html": [
       "<div>\n",
       "<style scoped>\n",
       "    .dataframe tbody tr th:only-of-type {\n",
       "        vertical-align: middle;\n",
       "    }\n",
       "\n",
       "    .dataframe tbody tr th {\n",
       "        vertical-align: top;\n",
       "    }\n",
       "\n",
       "    .dataframe thead th {\n",
       "        text-align: right;\n",
       "    }\n",
       "</style>\n",
       "<table border=\"1\" class=\"dataframe\">\n",
       "  <thead>\n",
       "    <tr style=\"text-align: right;\">\n",
       "      <th></th>\n",
       "      <th>id</th>\n",
       "      <th>Sentence</th>\n",
       "      <th>Aspect Term</th>\n",
       "      <th>polarity</th>\n",
       "      <th>from</th>\n",
       "      <th>to</th>\n",
       "    </tr>\n",
       "  </thead>\n",
       "  <tbody>\n",
       "    <tr>\n",
       "      <th>0</th>\n",
       "      <td>3121</td>\n",
       "      <td>But the staff was so horrible to us.</td>\n",
       "      <td>staff</td>\n",
       "      <td>negative</td>\n",
       "      <td>8</td>\n",
       "      <td>13</td>\n",
       "    </tr>\n",
       "    <tr>\n",
       "      <th>1</th>\n",
       "      <td>2777</td>\n",
       "      <td>To be completely fair, the only redeeming fact...</td>\n",
       "      <td>food</td>\n",
       "      <td>positive</td>\n",
       "      <td>57</td>\n",
       "      <td>61</td>\n",
       "    </tr>\n",
       "    <tr>\n",
       "      <th>2</th>\n",
       "      <td>1634</td>\n",
       "      <td>The food is uniformly exceptional, with a very...</td>\n",
       "      <td>food</td>\n",
       "      <td>positive</td>\n",
       "      <td>4</td>\n",
       "      <td>8</td>\n",
       "    </tr>\n",
       "    <tr>\n",
       "      <th>3</th>\n",
       "      <td>1634</td>\n",
       "      <td>The food is uniformly exceptional, with a very...</td>\n",
       "      <td>kitchen</td>\n",
       "      <td>positive</td>\n",
       "      <td>55</td>\n",
       "      <td>62</td>\n",
       "    </tr>\n",
       "    <tr>\n",
       "      <th>4</th>\n",
       "      <td>1634</td>\n",
       "      <td>The food is uniformly exceptional, with a very...</td>\n",
       "      <td>menu</td>\n",
       "      <td>neutral</td>\n",
       "      <td>141</td>\n",
       "      <td>145</td>\n",
       "    </tr>\n",
       "  </tbody>\n",
       "</table>\n",
       "</div>"
      ],
      "text/plain": [
       "     id                                           Sentence Aspect Term  \\\n",
       "0  3121               But the staff was so horrible to us.       staff   \n",
       "1  2777  To be completely fair, the only redeeming fact...        food   \n",
       "2  1634  The food is uniformly exceptional, with a very...        food   \n",
       "3  1634  The food is uniformly exceptional, with a very...     kitchen   \n",
       "4  1634  The food is uniformly exceptional, with a very...        menu   \n",
       "\n",
       "   polarity  from   to  \n",
       "0  negative     8   13  \n",
       "1  positive    57   61  \n",
       "2  positive     4    8  \n",
       "3  positive    55   62  \n",
       "4   neutral   141  145  "
      ]
     },
     "execution_count": 8,
     "metadata": {},
     "output_type": "execute_result"
    }
   ],
   "source": [
    "data.head()"
   ]
  },
  {
   "cell_type": "code",
   "execution_count": 9,
   "id": "2c0ce0f4",
   "metadata": {},
   "outputs": [
    {
     "data": {
      "text/plain": [
       "id             0\n",
       "Sentence       0\n",
       "Aspect Term    0\n",
       "polarity       0\n",
       "from           0\n",
       "to             0\n",
       "dtype: int64"
      ]
     },
     "execution_count": 9,
     "metadata": {},
     "output_type": "execute_result"
    }
   ],
   "source": [
    "data.isnull().sum()"
   ]
  },
  {
   "cell_type": "code",
   "execution_count": 10,
   "id": "3851e82f",
   "metadata": {},
   "outputs": [
    {
     "data": {
      "text/plain": [
       "np.int64(1674)"
      ]
     },
     "execution_count": 10,
     "metadata": {},
     "output_type": "execute_result"
    }
   ],
   "source": [
    "data['Sentence'].duplicated().sum()"
   ]
  },
  {
   "cell_type": "code",
   "execution_count": 11,
   "id": "2ea694e5",
   "metadata": {},
   "outputs": [
    {
     "data": {
      "text/plain": [
       "2019"
      ]
     },
     "execution_count": 11,
     "metadata": {},
     "output_type": "execute_result"
    }
   ],
   "source": [
    "len(pd.unique(data['Sentence']))"
   ]
  },
  {
   "cell_type": "markdown",
   "id": "038b9393",
   "metadata": {},
   "source": [
    "Các câu có giá trị trùng lặp vì một câu có thể chứa nhiều thuật ngữ khía cạnh."
   ]
  },
  {
   "cell_type": "markdown",
   "id": "9f55289c",
   "metadata": {},
   "source": [
    "# Analysis"
   ]
  },
  {
   "cell_type": "code",
   "execution_count": 12,
   "id": "2582ae60",
   "metadata": {},
   "outputs": [
    {
     "data": {
      "image/png": "[encoded data removed]",
      "text/plain": [
       "<Figure size 640x480 with 1 Axes>"
      ]
     },
     "metadata": {},
     "output_type": "display_data"
    }
   ],
   "source": [
    "import matplotlib.pyplot as plt\n",
    "import seaborn as sns\n",
    "sns.countplot(data=data,x='polarity')\n",
    "plt.show()"
   ]
  },
  {
   "cell_type": "code",
   "execution_count": 13,
   "id": "5b8a1c42",
   "metadata": {},
   "outputs": [
    {
     "data": {
      "image/png": "[encoded data removed]",
      "text/plain": [
       "<Figure size 640x480 with 1 Axes>"
      ]
     },
     "metadata": {},
     "output_type": "display_data"
    }
   ],
   "source": [
    "plt.bar(x=['Total','Unique Sentence'],height=[3693,2019])\n",
    "plt.show()"
   ]
  },
  {
   "cell_type": "code",
   "execution_count": 14,
   "id": "d84e9304",
   "metadata": {},
   "outputs": [
    {
     "data": {
      "text/html": [
       "<div>\n",
       "<style scoped>\n",
       "    .dataframe tbody tr th:only-of-type {\n",
       "        vertical-align: middle;\n",
       "    }\n",
       "\n",
       "    .dataframe tbody tr th {\n",
       "        vertical-align: top;\n",
       "    }\n",
       "\n",
       "    .dataframe thead th {\n",
       "        text-align: right;\n",
       "    }\n",
       "</style>\n",
       "<table border=\"1\" class=\"dataframe\">\n",
       "  <thead>\n",
       "    <tr style=\"text-align: right;\">\n",
       "      <th></th>\n",
       "      <th>id</th>\n",
       "      <th>Sentence</th>\n",
       "      <th>Aspect Term</th>\n",
       "      <th>polarity</th>\n",
       "      <th>from</th>\n",
       "      <th>to</th>\n",
       "    </tr>\n",
       "  </thead>\n",
       "  <tbody>\n",
       "    <tr>\n",
       "      <th>64</th>\n",
       "      <td>863</td>\n",
       "      <td>The food was delicious but do not come here on...</td>\n",
       "      <td>food</td>\n",
       "      <td>conflict</td>\n",
       "      <td>4</td>\n",
       "      <td>8</td>\n",
       "    </tr>\n",
       "    <tr>\n",
       "      <th>101</th>\n",
       "      <td>183</td>\n",
       "      <td>The service varys from day to day- sometimes t...</td>\n",
       "      <td>service</td>\n",
       "      <td>conflict</td>\n",
       "      <td>4</td>\n",
       "      <td>11</td>\n",
       "    </tr>\n",
       "    <tr>\n",
       "      <th>133</th>\n",
       "      <td>2274</td>\n",
       "      <td>Though the Spider Roll may look like a challen...</td>\n",
       "      <td>Spider Roll</td>\n",
       "      <td>conflict</td>\n",
       "      <td>11</td>\n",
       "      <td>22</td>\n",
       "    </tr>\n",
       "    <tr>\n",
       "      <th>142</th>\n",
       "      <td>856</td>\n",
       "      <td>An oasis of refinement:  Food, though somewhat...</td>\n",
       "      <td>Food</td>\n",
       "      <td>conflict</td>\n",
       "      <td>25</td>\n",
       "      <td>29</td>\n",
       "    </tr>\n",
       "    <tr>\n",
       "      <th>172</th>\n",
       "      <td>173</td>\n",
       "      <td>Food is usually very good, though ocasionally ...</td>\n",
       "      <td>Food</td>\n",
       "      <td>conflict</td>\n",
       "      <td>0</td>\n",
       "      <td>4</td>\n",
       "    </tr>\n",
       "  </tbody>\n",
       "</table>\n",
       "</div>"
      ],
      "text/plain": [
       "       id                                           Sentence  Aspect Term  \\\n",
       "64    863  The food was delicious but do not come here on...         food   \n",
       "101   183  The service varys from day to day- sometimes t...      service   \n",
       "133  2274  Though the Spider Roll may look like a challen...  Spider Roll   \n",
       "142   856  An oasis of refinement:  Food, though somewhat...         Food   \n",
       "172   173  Food is usually very good, though ocasionally ...         Food   \n",
       "\n",
       "     polarity  from  to  \n",
       "64   conflict     4   8  \n",
       "101  conflict     4  11  \n",
       "133  conflict    11  22  \n",
       "142  conflict    25  29  \n",
       "172  conflict     0   4  "
      ]
     },
     "execution_count": 14,
     "metadata": {},
     "output_type": "execute_result"
    }
   ],
   "source": [
    "data[data['polarity']=='conflict'].head()"
   ]
  },
  {
   "cell_type": "code",
   "execution_count": 17,
   "id": "c746700f",
   "metadata": {},
   "outputs": [],
   "source": [
    "import re\n",
    "import nltk\n",
    "import spacy\n",
    "from nltk.corpus import stopwords\n",
    "from nltk.stem import PorterStemmer\n",
    "from nltk.stem import WordNetLemmatizer\n",
    "from sklearn.feature_extraction.text import TfidfVectorizer"
   ]
  },
  {
   "cell_type": "code",
   "execution_count": 19,
   "id": "357377eb",
   "metadata": {},
   "outputs": [
    {
     "name": "stderr",
     "output_type": "stream",
     "text": [
      "[nltk_data] Downloading package stopwords to\n",
      "[nltk_data]     C:\\Users\\Viet\\AppData\\Roaming\\nltk_data...\n",
      "[nltk_data]   Package stopwords is already up-to-date!\n",
      "[nltk_data] Downloading package punkt to\n",
      "[nltk_data]     C:\\Users\\Viet\\AppData\\Roaming\\nltk_data...\n",
      "[nltk_data]   Package punkt is already up-to-date!\n",
      "[nltk_data] Downloading package wordnet to\n",
      "[nltk_data]     C:\\Users\\Viet\\AppData\\Roaming\\nltk_data...\n",
      "[nltk_data]   Package wordnet is already up-to-date!\n",
      "[nltk_data] Downloading package punkt_tab to\n",
      "[nltk_data]     C:\\Users\\Viet\\AppData\\Roaming\\nltk_data...\n",
      "[nltk_data]   Package punkt_tab is already up-to-date!\n",
      "[nltk_data] Downloading package omw-1.4 to\n",
      "[nltk_data]     C:\\Users\\Viet\\AppData\\Roaming\\nltk_data...\n",
      "[nltk_data]   Package omw-1.4 is already up-to-date!\n"
     ]
    }
   ],
   "source": [
    "nltk.download('stopwords')\n",
    "nltk.download('punkt')\n",
    "nltk.download('wordnet')\n",
    "nltk.download('punkt_tab')\n",
    "nltk.download('omw-1.4')\n",
    "nlp = spacy.load('en_core_web_sm')\n",
    "\n",
    "# Initialize tools\n",
    "stop_words = set(stopwords.words('english'))\n",
    "stemmer = PorterStemmer()\n",
    "lemmatizer = WordNetLemmatizer()\n",
    "\n",
    "def preprocess(text):\n",
    "    text=text.lower()\n",
    "    text = re.sub(r'[^\\w\\s]', '', text)\n",
    "    tokens = nltk.word_tokenize(text)\n",
    "\n",
    "    tokens = [word for word in tokens if word not in stop_words]\n",
    "    tokens = [stemmer.stem(word) for word in tokens]\n",
    "\n",
    "\n",
    "    # Step 6: Removing numbers\n",
    "    tokens = [ word for word in tokens if not word.isdigit()]\n",
    "    temp=''\n",
    "    for i in tokens:\n",
    "        temp=temp+i+' '\n",
    "    temp.strip()\n",
    "    return temp"
   ]
  },
  {
   "cell_type": "code",
   "execution_count": 20,
   "id": "64ccc8a3",
   "metadata": {},
   "outputs": [
    {
     "name": "stdout",
     "output_type": "stream",
     "text": [
      "staff horribl us \n"
     ]
    }
   ],
   "source": [
    "print(preprocess('but the staff was so horrible to us'))"
   ]
  },
  {
   "cell_type": "code",
   "execution_count": 21,
   "id": "cac2ea04",
   "metadata": {},
   "outputs": [],
   "source": [
    "data['Sentence']=[preprocess(i) for i in data['Sentence']]\n",
    "data['Aspect Term']=[preprocess(i) for i in data['Aspect Term']]"
   ]
  },
  {
   "cell_type": "code",
   "execution_count": 24,
   "id": "c770d0d1",
   "metadata": {},
   "outputs": [],
   "source": [
    "word_count=[len(str(i).split(' '))-1 for i in data['Sentence']]\n",
    "data['word_count']=word_count"
   ]
  },
  {
   "cell_type": "code",
   "execution_count": 25,
   "id": "7daa97b5",
   "metadata": {},
   "outputs": [
    {
     "data": {
      "text/html": [
       "<div>\n",
       "<style scoped>\n",
       "    .dataframe tbody tr th:only-of-type {\n",
       "        vertical-align: middle;\n",
       "    }\n",
       "\n",
       "    .dataframe tbody tr th {\n",
       "        vertical-align: top;\n",
       "    }\n",
       "\n",
       "    .dataframe thead th {\n",
       "        text-align: right;\n",
       "    }\n",
       "</style>\n",
       "<table border=\"1\" class=\"dataframe\">\n",
       "  <thead>\n",
       "    <tr style=\"text-align: right;\">\n",
       "      <th></th>\n",
       "      <th>id</th>\n",
       "      <th>Sentence</th>\n",
       "      <th>Aspect Term</th>\n",
       "      <th>polarity</th>\n",
       "      <th>from</th>\n",
       "      <th>to</th>\n",
       "      <th>word_count</th>\n",
       "    </tr>\n",
       "  </thead>\n",
       "  <tbody>\n",
       "    <tr>\n",
       "      <th>0</th>\n",
       "      <td>3121</td>\n",
       "      <td>staff horribl us</td>\n",
       "      <td>staff</td>\n",
       "      <td>negative</td>\n",
       "      <td>8</td>\n",
       "      <td>13</td>\n",
       "      <td>3</td>\n",
       "    </tr>\n",
       "    <tr>\n",
       "      <th>1</th>\n",
       "      <td>2777</td>\n",
       "      <td>complet fair redeem factor food averag couldnt...</td>\n",
       "      <td>food</td>\n",
       "      <td>positive</td>\n",
       "      <td>57</td>\n",
       "      <td>61</td>\n",
       "      <td>10</td>\n",
       "    </tr>\n",
       "    <tr>\n",
       "      <th>2</th>\n",
       "      <td>1634</td>\n",
       "      <td>food uniformli except capabl kitchen proudli w...</td>\n",
       "      <td>food</td>\n",
       "      <td>positive</td>\n",
       "      <td>4</td>\n",
       "      <td>8</td>\n",
       "      <td>13</td>\n",
       "    </tr>\n",
       "    <tr>\n",
       "      <th>3</th>\n",
       "      <td>1634</td>\n",
       "      <td>food uniformli except capabl kitchen proudli w...</td>\n",
       "      <td>kitchen</td>\n",
       "      <td>positive</td>\n",
       "      <td>55</td>\n",
       "      <td>62</td>\n",
       "      <td>13</td>\n",
       "    </tr>\n",
       "    <tr>\n",
       "      <th>4</th>\n",
       "      <td>1634</td>\n",
       "      <td>food uniformli except capabl kitchen proudli w...</td>\n",
       "      <td>menu</td>\n",
       "      <td>neutral</td>\n",
       "      <td>141</td>\n",
       "      <td>145</td>\n",
       "      <td>13</td>\n",
       "    </tr>\n",
       "  </tbody>\n",
       "</table>\n",
       "</div>"
      ],
      "text/plain": [
       "     id                                           Sentence Aspect Term  \\\n",
       "0  3121                                  staff horribl us       staff    \n",
       "1  2777  complet fair redeem factor food averag couldnt...       food    \n",
       "2  1634  food uniformli except capabl kitchen proudli w...       food    \n",
       "3  1634  food uniformli except capabl kitchen proudli w...    kitchen    \n",
       "4  1634  food uniformli except capabl kitchen proudli w...       menu    \n",
       "\n",
       "   polarity  from   to  word_count  \n",
       "0  negative     8   13           3  \n",
       "1  positive    57   61          10  \n",
       "2  positive     4    8          13  \n",
       "3  positive    55   62          13  \n",
       "4   neutral   141  145          13  "
      ]
     },
     "execution_count": 25,
     "metadata": {},
     "output_type": "execute_result"
    }
   ],
   "source": [
    "data.head()"
   ]
  },
  {
   "cell_type": "code",
   "execution_count": 26,
   "id": "75c6cf56",
   "metadata": {},
   "outputs": [
    {
     "data": {
      "image/png": "[encoded data removed]",
      "text/plain": [
       "<Figure size 640x480 with 1 Axes>"
      ]
     },
     "metadata": {},
     "output_type": "display_data"
    }
   ],
   "source": [
    "sns.scatterplot(data=data,x='polarity',y='word_count')\n",
    "plt.show()"
   ]
  },
  {
   "cell_type": "code",
   "execution_count": 29,
   "id": "ff52e221",
   "metadata": {},
   "outputs": [],
   "source": [
    "tfidf_vectorizer = TfidfVectorizer()\n",
    "\n",
    "data['vector'] = [tfidf_vectorizer.fit_transform([i]).toarray() for i in data['Sentence']]"
   ]
  },
  {
   "cell_type": "code",
   "execution_count": 30,
   "id": "c13472c3",
   "metadata": {},
   "outputs": [],
   "source": [
    "%%capture\n",
    "def compute_aspect_tfidf(sentence, aspect_term):\n",
    "    #print(sentence)\n",
    "    #print(aspect_term)\n",
    "    aspect_term=aspect_term.strip()\n",
    "    print(aspect_term)\n",
    "    vectorizer = TfidfVectorizer()  # Initialize the vectorizer\n",
    "    tfidf_matrix = vectorizer.fit_transform([sentence])  # Fit and transform the sentence\n",
    "    feature_names = vectorizer.get_feature_names_out()  # Get feature names (terms in the sentence)\n",
    "    tfidf_scores = tfidf_matrix.toarray().flatten()  # Get TF-IDF scores as a flat array\n",
    "    print(feature_names.tolist())\n",
    "    #print(tfidf_scores)\n",
    "    # Check if aspect term exists in the vocabulary\n",
    "    if aspect_term in feature_names:\n",
    "        # Return the TF-IDF score for the aspect term\n",
    "        \n",
    "    #print(feature_names.tolist().index(aspect_term))\n",
    "        return tfidf_scores[feature_names.tolist().index(aspect_term)]\n",
    "    else:\n",
    "        # If aspect term is not in the vocabulary, return 0\n",
    "        return 0\n",
    "\n",
    "# Apply the function to compute aspect term TF-IDF scores\n",
    "#data['Aspect_TFIDF'] = data.apply(lambda row: compute_aspect_tfidf(row['Sentence'], row['Aspect Term']), axis=1)\n",
    "#compute_aspect_tfidf('staff horribl us','staff')\n",
    "data['Aspect_TFIDF']=[compute_aspect_tfidf(i,j) for i,j in zip(data['Sentence'],data['Aspect Term'])]"
   ]
  },
  {
   "cell_type": "code",
   "execution_count": 31,
   "id": "509c07a2",
   "metadata": {},
   "outputs": [
    {
     "data": {
      "text/html": [
       "<div>\n",
       "<style scoped>\n",
       "    .dataframe tbody tr th:only-of-type {\n",
       "        vertical-align: middle;\n",
       "    }\n",
       "\n",
       "    .dataframe tbody tr th {\n",
       "        vertical-align: top;\n",
       "    }\n",
       "\n",
       "    .dataframe thead th {\n",
       "        text-align: right;\n",
       "    }\n",
       "</style>\n",
       "<table border=\"1\" class=\"dataframe\">\n",
       "  <thead>\n",
       "    <tr style=\"text-align: right;\">\n",
       "      <th></th>\n",
       "      <th>id</th>\n",
       "      <th>Sentence</th>\n",
       "      <th>Aspect Term</th>\n",
       "      <th>polarity</th>\n",
       "      <th>from</th>\n",
       "      <th>to</th>\n",
       "      <th>word_count</th>\n",
       "      <th>vector</th>\n",
       "      <th>Aspect_TFIDF</th>\n",
       "    </tr>\n",
       "  </thead>\n",
       "  <tbody>\n",
       "    <tr>\n",
       "      <th>0</th>\n",
       "      <td>3121</td>\n",
       "      <td>staff horribl us</td>\n",
       "      <td>staff</td>\n",
       "      <td>negative</td>\n",
       "      <td>8</td>\n",
       "      <td>13</td>\n",
       "      <td>3</td>\n",
       "      <td>[[0.5773502691896258, 0.5773502691896258, 0.57...</td>\n",
       "      <td>0.577350</td>\n",
       "    </tr>\n",
       "    <tr>\n",
       "      <th>1</th>\n",
       "      <td>2777</td>\n",
       "      <td>complet fair redeem factor food averag couldnt...</td>\n",
       "      <td>food</td>\n",
       "      <td>positive</td>\n",
       "      <td>57</td>\n",
       "      <td>61</td>\n",
       "      <td>10</td>\n",
       "      <td>[[0.31622776601683794, 0.31622776601683794, 0....</td>\n",
       "      <td>0.316228</td>\n",
       "    </tr>\n",
       "    <tr>\n",
       "      <th>2</th>\n",
       "      <td>1634</td>\n",
       "      <td>food uniformli except capabl kitchen proudli w...</td>\n",
       "      <td>food</td>\n",
       "      <td>positive</td>\n",
       "      <td>4</td>\n",
       "      <td>8</td>\n",
       "      <td>13</td>\n",
       "      <td>[[0.2773500981126146, 0.2773500981126146, 0.27...</td>\n",
       "      <td>0.277350</td>\n",
       "    </tr>\n",
       "    <tr>\n",
       "      <th>3</th>\n",
       "      <td>1634</td>\n",
       "      <td>food uniformli except capabl kitchen proudli w...</td>\n",
       "      <td>kitchen</td>\n",
       "      <td>positive</td>\n",
       "      <td>55</td>\n",
       "      <td>62</td>\n",
       "      <td>13</td>\n",
       "      <td>[[0.2773500981126146, 0.2773500981126146, 0.27...</td>\n",
       "      <td>0.277350</td>\n",
       "    </tr>\n",
       "    <tr>\n",
       "      <th>4</th>\n",
       "      <td>1634</td>\n",
       "      <td>food uniformli except capabl kitchen proudli w...</td>\n",
       "      <td>menu</td>\n",
       "      <td>neutral</td>\n",
       "      <td>141</td>\n",
       "      <td>145</td>\n",
       "      <td>13</td>\n",
       "      <td>[[0.2773500981126146, 0.2773500981126146, 0.27...</td>\n",
       "      <td>0.277350</td>\n",
       "    </tr>\n",
       "  </tbody>\n",
       "</table>\n",
       "</div>"
      ],
      "text/plain": [
       "     id                                           Sentence Aspect Term  \\\n",
       "0  3121                                  staff horribl us       staff    \n",
       "1  2777  complet fair redeem factor food averag couldnt...       food    \n",
       "2  1634  food uniformli except capabl kitchen proudli w...       food    \n",
       "3  1634  food uniformli except capabl kitchen proudli w...    kitchen    \n",
       "4  1634  food uniformli except capabl kitchen proudli w...       menu    \n",
       "\n",
       "   polarity  from   to  word_count  \\\n",
       "0  negative     8   13           3   \n",
       "1  positive    57   61          10   \n",
       "2  positive     4    8          13   \n",
       "3  positive    55   62          13   \n",
       "4   neutral   141  145          13   \n",
       "\n",
       "                                              vector  Aspect_TFIDF  \n",
       "0  [[0.5773502691896258, 0.5773502691896258, 0.57...      0.577350  \n",
       "1  [[0.31622776601683794, 0.31622776601683794, 0....      0.316228  \n",
       "2  [[0.2773500981126146, 0.2773500981126146, 0.27...      0.277350  \n",
       "3  [[0.2773500981126146, 0.2773500981126146, 0.27...      0.277350  \n",
       "4  [[0.2773500981126146, 0.2773500981126146, 0.27...      0.277350  "
      ]
     },
     "execution_count": 31,
     "metadata": {},
     "output_type": "execute_result"
    }
   ],
   "source": [
    "data.head()"
   ]
  },
  {
   "cell_type": "code",
   "execution_count": 32,
   "id": "4cd985e0",
   "metadata": {},
   "outputs": [],
   "source": [
    "data=data.drop(['from','to'],axis=1)"
   ]
  },
  {
   "cell_type": "markdown",
   "id": "e68b8815",
   "metadata": {},
   "source": [
    "Bỏ from,to vì chúng chỉ cung cấp ngữ cảnh các index của thuật ngữ khía cạnh chứ không quyết định đến việc phân định cảm xúc do đó nên bỏ"
   ]
  },
  {
   "cell_type": "code",
   "execution_count": 33,
   "id": "5216a66e",
   "metadata": {},
   "outputs": [],
   "source": [
    "def polarity_conv(i):\n",
    "    if i=='negative':\n",
    "        return -1\n",
    "    elif i=='neutral':\n",
    "        return 0\n",
    "    elif i=='positive':\n",
    "        return 1\n",
    "    else:\n",
    "        return 2\n",
    "data.polarity=[polarity_conv(i) for i in data['polarity']]"
   ]
  },
  {
   "cell_type": "code",
   "execution_count": 34,
   "id": "71f07f4c",
   "metadata": {},
   "outputs": [
    {
     "data": {
      "text/html": [
       "<div>\n",
       "<style scoped>\n",
       "    .dataframe tbody tr th:only-of-type {\n",
       "        vertical-align: middle;\n",
       "    }\n",
       "\n",
       "    .dataframe tbody tr th {\n",
       "        vertical-align: top;\n",
       "    }\n",
       "\n",
       "    .dataframe thead th {\n",
       "        text-align: right;\n",
       "    }\n",
       "</style>\n",
       "<table border=\"1\" class=\"dataframe\">\n",
       "  <thead>\n",
       "    <tr style=\"text-align: right;\">\n",
       "      <th></th>\n",
       "      <th>id</th>\n",
       "      <th>Sentence</th>\n",
       "      <th>Aspect Term</th>\n",
       "      <th>polarity</th>\n",
       "      <th>word_count</th>\n",
       "      <th>vector</th>\n",
       "      <th>Aspect_TFIDF</th>\n",
       "    </tr>\n",
       "  </thead>\n",
       "  <tbody>\n",
       "    <tr>\n",
       "      <th>0</th>\n",
       "      <td>3121</td>\n",
       "      <td>staff horribl us</td>\n",
       "      <td>staff</td>\n",
       "      <td>-1</td>\n",
       "      <td>3</td>\n",
       "      <td>[[0.5773502691896258, 0.5773502691896258, 0.57...</td>\n",
       "      <td>0.577350</td>\n",
       "    </tr>\n",
       "    <tr>\n",
       "      <th>1</th>\n",
       "      <td>2777</td>\n",
       "      <td>complet fair redeem factor food averag couldnt...</td>\n",
       "      <td>food</td>\n",
       "      <td>1</td>\n",
       "      <td>10</td>\n",
       "      <td>[[0.31622776601683794, 0.31622776601683794, 0....</td>\n",
       "      <td>0.316228</td>\n",
       "    </tr>\n",
       "    <tr>\n",
       "      <th>2</th>\n",
       "      <td>1634</td>\n",
       "      <td>food uniformli except capabl kitchen proudli w...</td>\n",
       "      <td>food</td>\n",
       "      <td>1</td>\n",
       "      <td>13</td>\n",
       "      <td>[[0.2773500981126146, 0.2773500981126146, 0.27...</td>\n",
       "      <td>0.277350</td>\n",
       "    </tr>\n",
       "    <tr>\n",
       "      <th>3</th>\n",
       "      <td>1634</td>\n",
       "      <td>food uniformli except capabl kitchen proudli w...</td>\n",
       "      <td>kitchen</td>\n",
       "      <td>1</td>\n",
       "      <td>13</td>\n",
       "      <td>[[0.2773500981126146, 0.2773500981126146, 0.27...</td>\n",
       "      <td>0.277350</td>\n",
       "    </tr>\n",
       "    <tr>\n",
       "      <th>4</th>\n",
       "      <td>1634</td>\n",
       "      <td>food uniformli except capabl kitchen proudli w...</td>\n",
       "      <td>menu</td>\n",
       "      <td>0</td>\n",
       "      <td>13</td>\n",
       "      <td>[[0.2773500981126146, 0.2773500981126146, 0.27...</td>\n",
       "      <td>0.277350</td>\n",
       "    </tr>\n",
       "  </tbody>\n",
       "</table>\n",
       "</div>"
      ],
      "text/plain": [
       "     id                                           Sentence Aspect Term  \\\n",
       "0  3121                                  staff horribl us       staff    \n",
       "1  2777  complet fair redeem factor food averag couldnt...       food    \n",
       "2  1634  food uniformli except capabl kitchen proudli w...       food    \n",
       "3  1634  food uniformli except capabl kitchen proudli w...    kitchen    \n",
       "4  1634  food uniformli except capabl kitchen proudli w...       menu    \n",
       "\n",
       "   polarity  word_count                                             vector  \\\n",
       "0        -1           3  [[0.5773502691896258, 0.5773502691896258, 0.57...   \n",
       "1         1          10  [[0.31622776601683794, 0.31622776601683794, 0....   \n",
       "2         1          13  [[0.2773500981126146, 0.2773500981126146, 0.27...   \n",
       "3         1          13  [[0.2773500981126146, 0.2773500981126146, 0.27...   \n",
       "4         0          13  [[0.2773500981126146, 0.2773500981126146, 0.27...   \n",
       "\n",
       "   Aspect_TFIDF  \n",
       "0      0.577350  \n",
       "1      0.316228  \n",
       "2      0.277350  \n",
       "3      0.277350  \n",
       "4      0.277350  "
      ]
     },
     "execution_count": 34,
     "metadata": {},
     "output_type": "execute_result"
    }
   ],
   "source": [
    "data.head()"
   ]
  },
  {
   "cell_type": "code",
   "execution_count": 35,
   "id": "cbc54b81",
   "metadata": {},
   "outputs": [],
   "source": [
    "data.to_csv('./Dataset/Restaurant/processed/data.csv')"
   ]
  },
  {
   "cell_type": "markdown",
   "id": "6fbb2e0c",
   "metadata": {},
   "source": [
    "# Summary\n",
    "+ Dữ liệu thiên về cảm xúc tích cực\n",
    "+ Độ dài câu không liên quan đến cảm xúc\n",
    "+ Gần một phần ba số câu có nhiều hơn một khía cạnh"
   ]
  },
  {
   "cell_type": "markdown",
   "id": "4a63f20e",
   "metadata": {},
   "source": [
    "# Modeling"
   ]
  },
  {
   "cell_type": "code",
   "execution_count": 36,
   "id": "d9a86bd2",
   "metadata": {},
   "outputs": [],
   "source": [
    "from sklearn.model_selection import train_test_split\n",
    "\n",
    "\n",
    "# Split into train and test\n",
    "data['Combined'] = data['Sentence'] + \" \" + data['Aspect Term']\n",
    "X = tfidf_vectorizer.fit_transform(data['Combined'])\n",
    "y = data['polarity']\n",
    "#y = data[\"polarity\"]\n",
    "X_train, X_test, y_train, y_test = train_test_split(X, y, test_size=0.2, random_state=42)"
   ]
  },
  {
   "cell_type": "markdown",
   "id": "4752dfdb",
   "metadata": {},
   "source": [
    "# Naive Bayes"
   ]
  },
  {
   "cell_type": "code",
   "execution_count": 62,
   "id": "3fe544ef",
   "metadata": {},
   "outputs": [
    {
     "name": "stdout",
     "output_type": "stream",
     "text": [
      "Accuracy: 0.6468200270635994\n"
     ]
    }
   ],
   "source": [
    "from sklearn.naive_bayes import MultinomialNB\n",
    "from sklearn.metrics import accuracy_score\n",
    "\n",
    "model = MultinomialNB()\n",
    "model.fit(X_train, y_train)\n",
    "y_pred = model.predict(X_test)\n",
    "acc_naivebayes = accuracy_score(y_test, y_pred)\n",
    "print(\"Accuracy:\", acc_naivebayes)"
   ]
  },
  {
   "cell_type": "code",
   "execution_count": 44,
   "id": "8d53ae73",
   "metadata": {},
   "outputs": [],
   "source": [
    "def predict(sentence,aspect):\n",
    "    pred=model.predict(tfidf_vectorizer.transform([sentence+' '+aspect]))\n",
    "    if pred[0]==-1:\n",
    "        return 'Negative'\n",
    "    if pred[0]==0:\n",
    "        return 'Neutral'\n",
    "    if pred[0]==1:\n",
    "        return 'Positive'\n",
    "    else :\n",
    "        return 'Conflict'"
   ]
  },
  {
   "cell_type": "code",
   "execution_count": 45,
   "id": "a90713dc",
   "metadata": {},
   "outputs": [
    {
     "data": {
      "text/plain": [
       "'Positive'"
      ]
     },
     "execution_count": 45,
     "metadata": {},
     "output_type": "execute_result"
    }
   ],
   "source": [
    "predict('staff horribl us','staff')"
   ]
  },
  {
   "cell_type": "markdown",
   "id": "e662d007",
   "metadata": {},
   "source": [
    "# Logistic Regression"
   ]
  },
  {
   "cell_type": "code",
   "execution_count": 61,
   "id": "77b7c7b6",
   "metadata": {},
   "outputs": [
    {
     "name": "stdout",
     "output_type": "stream",
     "text": [
      "Accuracy: 0.6833558863328822\n"
     ]
    }
   ],
   "source": [
    "from sklearn.linear_model import LogisticRegression\n",
    "from sklearn.metrics import accuracy_score\n",
    "\n",
    "# Train logistic regression\n",
    "model = LogisticRegression()\n",
    "model.fit(X_train, y_train)\n",
    "\n",
    "# Evaluate on test set\n",
    "y_pred = model.predict(X_test)\n",
    "acc_logistic = accuracy_score(y_test, y_pred)\n",
    "print(\"Accuracy:\", acc_logistic)"
   ]
  },
  {
   "cell_type": "code",
   "execution_count": 39,
   "id": "c453dcd8",
   "metadata": {},
   "outputs": [
    {
     "data": {
      "text/plain": [
       "'Positive'"
      ]
     },
     "execution_count": 39,
     "metadata": {},
     "output_type": "execute_result"
    }
   ],
   "source": [
    "predict('staff horribl us','staff')"
   ]
  },
  {
   "cell_type": "markdown",
   "id": "2d74bbbc",
   "metadata": {},
   "source": [
    "# SVM"
   ]
  },
  {
   "cell_type": "code",
   "execution_count": 60,
   "id": "0871bdd0",
   "metadata": {},
   "outputs": [
    {
     "name": "stdout",
     "output_type": "stream",
     "text": [
      "Accuracy: 0.6820027063599459\n"
     ]
    }
   ],
   "source": [
    "from sklearn import svm\n",
    "\n",
    "model = svm.SVC()\n",
    "model.fit(X_train, y_train)\n",
    "y_pred = model.predict(X_test)\n",
    "acc_SVM = accuracy_score(y_test, y_pred)\n",
    "print(\"Accuracy:\", acc_SVM)"
   ]
  },
  {
   "cell_type": "code",
   "execution_count": 51,
   "id": "4fcf5aea",
   "metadata": {},
   "outputs": [
    {
     "data": {
      "text/plain": [
       "'Positive'"
      ]
     },
     "execution_count": 51,
     "metadata": {},
     "output_type": "execute_result"
    }
   ],
   "source": [
    "predict('staff horribl us','staff')"
   ]
  },
  {
   "cell_type": "markdown",
   "id": "f20d3405",
   "metadata": {},
   "source": [
    "# KNN"
   ]
  },
  {
   "cell_type": "code",
   "execution_count": 59,
   "id": "edddd457",
   "metadata": {},
   "outputs": [
    {
     "name": "stdout",
     "output_type": "stream",
     "text": [
      "Accuracy: 0.6535859269282814\n"
     ]
    }
   ],
   "source": [
    "from sklearn.neighbors import KNeighborsClassifier\n",
    "\n",
    "model = KNeighborsClassifier(n_neighbors=5)  # mặc định k=5\n",
    "model.fit(X_train, y_train)\n",
    "y_pred = model.predict(X_test)\n",
    "acc_KNN = accuracy_score(y_test, y_pred)\n",
    "print(\"Accuracy:\", acc_KNN)\n"
   ]
  },
  {
   "cell_type": "code",
   "execution_count": 54,
   "id": "7ab96b6a",
   "metadata": {},
   "outputs": [
    {
     "data": {
      "text/plain": [
       "'Positive'"
      ]
     },
     "execution_count": 54,
     "metadata": {},
     "output_type": "execute_result"
    }
   ],
   "source": [
    "predict('staff horribl us','staff')"
   ]
  },
  {
   "cell_type": "markdown",
   "id": "f17e005e",
   "metadata": {},
   "source": [
    "# Random Forest"
   ]
  },
  {
   "cell_type": "code",
   "execution_count": 58,
   "id": "d9b3bb4a",
   "metadata": {},
   "outputs": [
    {
     "name": "stdout",
     "output_type": "stream",
     "text": [
      "Accuracy: 0.699594046008119\n"
     ]
    }
   ],
   "source": [
    "from sklearn.ensemble import RandomForestClassifier\n",
    "\n",
    "model = RandomForestClassifier(n_estimators=100, random_state=42)  \n",
    "model.fit(X_train, y_train)\n",
    "y_pred = model.predict(X_test)\n",
    "acc_RF = accuracy_score(y_test, y_pred)\n",
    "print(\"Accuracy:\", acc_RF)"
   ]
  },
  {
   "cell_type": "code",
   "execution_count": 57,
   "id": "8792affd",
   "metadata": {},
   "outputs": [
    {
     "data": {
      "text/plain": [
       "'Negative'"
      ]
     },
     "execution_count": 57,
     "metadata": {},
     "output_type": "execute_result"
    }
   ],
   "source": [
    "predict('staff horribl us','staff')"
   ]
  },
  {
   "cell_type": "code",
   "execution_count": 63,
   "id": "03313e9d",
   "metadata": {},
   "outputs": [
    {
     "name": "stdout",
     "output_type": "stream",
     "text": [
      "Logistic Regression Accuracy: 0.6833558863328822\n",
      "Naive Bayes Accuracy: 0.6468200270635994\n",
      "SVM Accuracy: 0.6820027063599459\n",
      "KNN Accuracy: 0.6535859269282814\n",
      "Random Forest Accuracy: 0.699594046008119\n"
     ]
    }
   ],
   "source": [
    "print(\"Logistic Regression Accuracy:\", acc_logistic)\n",
    "print(\"Naive Bayes Accuracy:\", acc_naivebayes)\n",
    "print(\"SVM Accuracy:\", acc_SVM)\n",
    "print(\"KNN Accuracy:\", acc_KNN)\n",
    "print(\"Random Forest Accuracy:\", acc_RF)"
   ]
  }
 ],
 "metadata": {
  "kernelspec": {
   "display_name": ".venv",
   "language": "python",
   "name": "python3"
  },
  "language_info": {
   "codemirror_mode": {
    "name": "ipython",
    "version": 3
   },
   "file_extension": ".py",
   "mimetype": "text/x-python",
   "name": "python",
   "nbconvert_exporter": "python",
   "pygments_lexer": "ipython3",
   "version": "3.11.9"
  }
 },
 "nbformat": 4,
 "nbformat_minor": 5
}
